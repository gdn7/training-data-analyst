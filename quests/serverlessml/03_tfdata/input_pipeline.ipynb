{
 "cells": [
  {
   "cell_type": "markdown",
   "metadata": {},
   "source": [
    "# Input pipeline into Keras\n",
    "\n",
    "In this notebook, we will look at how to read large datasets, datasets that may not fit into memory, using TensorFlow. We can use the tf.data pipeline to feed data to Keras models that use a TensorFlow backend.\n",
    "\n",
    "Let's start off with the Python imports that we need."
   ]
  },
  {
   "cell_type": "code",
   "execution_count": 24,
   "metadata": {},
   "outputs": [
    {
     "name": "stdout",
     "output_type": "stream",
     "text": [
      "2.0.0-alpha0\n"
     ]
    }
   ],
   "source": [
    "import os, json, math\n",
    "import numpy as np\n",
    "import tensorflow as tf\n",
    "tf.enable_v2_behavior()\n",
    "print(tf.__version__)"
   ]
  },
  {
   "cell_type": "markdown",
   "metadata": {},
   "source": [
    "## Locating the CSV files\n",
    "\n",
    "We will start with the CSV files that we wrote out in the [first notebook](../01_explore/taxifare.iypnb) of this sequence. Just so you don't have to run the notebook, we saved a copy in ../data"
   ]
  },
  {
   "cell_type": "code",
   "execution_count": 25,
   "metadata": {},
   "outputs": [
    {
     "name": "stdout",
     "output_type": "stream",
     "text": [
      "-rw-r--r-- 1 jupyter jupyter 126266 Jun  3 15:48 ../data/taxi-test.csv\n",
      "-rw-r--r-- 1 jupyter jupyter 593612 Jun  3 15:48 ../data/taxi-train.csv\n",
      "-rw-r--r-- 1 jupyter jupyter 126833 Jun  3 15:48 ../data/taxi-valid.csv\n"
     ]
    }
   ],
   "source": [
    "!ls -l ../data/*.csv"
   ]
  },
  {
   "cell_type": "markdown",
   "metadata": {},
   "source": [
    "## Use tf.data to read the CSV files\n",
    "\n",
    "See the documentation for [make_csv_dataset](https://www.tensorflow.org/api_docs/python/tf/data/experimental/make_csv_dataset).\n",
    "If you have TFRecords (which is recommended), use [make_batched_features_dataset](https://www.tensorflow.org/api_docs/python/tf/data/experimental/make_batched_features_dataset) instead."
   ]
  },
  {
   "cell_type": "code",
   "execution_count": 42,
   "metadata": {},
   "outputs": [],
   "source": [
    "CSV_COLUMNS  = ['fare_amount',  'pickup_datetime',\n",
    "                'pickup_longitude', 'pickup_latitude', \n",
    "                'dropoff_longitude', 'dropoff_latitude', \n",
    "                'passenger_count', 'key']\n",
    "LABEL_COLUMN = 'fare_amount'\n",
    "DEFAULTS     = [[0.0],['na'],[0.0],[0.0],[0.0],[0.0],[0.0],['na']]"
   ]
  },
  {
   "cell_type": "code",
   "execution_count": 43,
   "metadata": {},
   "outputs": [
    {
     "name": "stdout",
     "output_type": "stream",
     "text": [
      "<PrefetchDataset shapes: OrderedDict([(fare_amount, (1,)), (pickup_datetime, (1,)), (pickup_longitude, (1,)), (pickup_latitude, (1,)), (dropoff_longitude, (1,)), (dropoff_latitude, (1,)), (passenger_count, (1,)), (key, (1,))]), types: OrderedDict([(fare_amount, tf.float32), (pickup_datetime, tf.string), (pickup_longitude, tf.float32), (pickup_latitude, tf.float32), (dropoff_longitude, tf.float32), (dropoff_latitude, tf.float32), (passenger_count, tf.float32), (key, tf.string)])>\n"
     ]
    }
   ],
   "source": [
    "# load the training data\n",
    "def load_dataset(pattern):\n",
    "  return tf.data.experimental.make_csv_dataset(pattern, 1, CSV_COLUMNS, DEFAULTS)\n",
    "\n",
    "tempds = load_dataset('../data/taxi-train*')\n",
    "print(tempds)"
   ]
  },
  {
   "cell_type": "markdown",
   "metadata": {},
   "source": [
    "Note that this is a prefetched dataset. If you loop over the dataset, you'll get the rows one-by-one. Let's convert each row into a Python dictionary:"
   ]
  },
  {
   "cell_type": "code",
   "execution_count": 44,
   "metadata": {},
   "outputs": [
    {
     "name": "stdout",
     "output_type": "stream",
     "text": [
      "0 {'dropoff_longitude': array([-73.97569], dtype=float32), 'passenger_count': array([1.], dtype=float32), 'fare_amount': array([6.9], dtype=float32), 'pickup_longitude': array([-73.97808], dtype=float32), 'dropoff_latitude': array([40.780483], dtype=float32), 'pickup_datetime': array([b'2009-10-27 20:59:45+00:00'], dtype=object), 'pickup_latitude': array([40.76386], dtype=float32), 'key': array([b'5487'], dtype=object)}\n",
      "1 {'dropoff_longitude': array([-73.96535], dtype=float32), 'passenger_count': array([1.], dtype=float32), 'fare_amount': array([15.], dtype=float32), 'pickup_longitude': array([-73.96879], dtype=float32), 'dropoff_latitude': array([40.801003], dtype=float32), 'pickup_datetime': array([b'2015-02-03 22:32:35+00:00'], dtype=object), 'pickup_latitude': array([40.75741], dtype=float32), 'key': array([b'3025'], dtype=object)}\n",
      "2 {'dropoff_longitude': array([-73.95738], dtype=float32), 'passenger_count': array([1.], dtype=float32), 'fare_amount': array([4.5], dtype=float32), 'pickup_longitude': array([-73.9507], dtype=float32), 'dropoff_latitude': array([40.77518], dtype=float32), 'pickup_datetime': array([b'2011-12-03 10:28:00+00:00'], dtype=object), 'pickup_latitude': array([40.785786], dtype=float32), 'key': array([b'3954'], dtype=object)}\n",
      "3 {'dropoff_longitude': array([-73.96096], dtype=float32), 'passenger_count': array([1.], dtype=float32), 'fare_amount': array([10.5], dtype=float32), 'pickup_longitude': array([-73.982216], dtype=float32), 'dropoff_latitude': array([40.77584], dtype=float32), 'pickup_datetime': array([b'2010-02-12 20:54:38+00:00'], dtype=object), 'pickup_latitude': array([40.765736], dtype=float32), 'key': array([b'6107'], dtype=object)}\n"
     ]
    }
   ],
   "source": [
    "# print a few of the rows\n",
    "for n, data in enumerate(tempds):\n",
    "    row_data = {k: v.numpy() for k,v in data.items()}\n",
    "    print(n, row_data)\n",
    "    if n > 2:\n",
    "        break"
   ]
  },
  {
   "cell_type": "markdown",
   "metadata": {},
   "source": [
    "What we really need is a dictionary of features + a label. So, we have to do two things to the above dictionary. (1) remove the unwanted column \"key\" and (2) keep the label separate from the features."
   ]
  },
  {
   "cell_type": "code",
   "execution_count": 45,
   "metadata": {},
   "outputs": [
    {
     "name": "stdout",
     "output_type": "stream",
     "text": [
      "0 [6.9] {'dropoff_longitude': array([-73.97569], dtype=float32), 'passenger_count': array([1.], dtype=float32), 'pickup_longitude': array([-73.97808], dtype=float32), 'dropoff_latitude': array([40.780483], dtype=float32), 'pickup_latitude': array([40.76386], dtype=float32)}\n",
      "1 [15.] {'dropoff_longitude': array([-73.96535], dtype=float32), 'passenger_count': array([1.], dtype=float32), 'pickup_longitude': array([-73.96879], dtype=float32), 'dropoff_latitude': array([40.801003], dtype=float32), 'pickup_latitude': array([40.75741], dtype=float32)}\n",
      "2 [4.5] {'dropoff_longitude': array([-73.95738], dtype=float32), 'passenger_count': array([1.], dtype=float32), 'pickup_longitude': array([-73.9507], dtype=float32), 'dropoff_latitude': array([40.77518], dtype=float32), 'pickup_latitude': array([40.785786], dtype=float32)}\n",
      "3 [10.5] {'dropoff_longitude': array([-73.96096], dtype=float32), 'passenger_count': array([1.], dtype=float32), 'pickup_longitude': array([-73.982216], dtype=float32), 'dropoff_latitude': array([40.77584], dtype=float32), 'pickup_latitude': array([40.765736], dtype=float32)}\n"
     ]
    }
   ],
   "source": [
    "# get features, label\n",
    "def features_and_labels(row_data):\n",
    "    for unwanted_col in ['pickup_datetime', 'key']:\n",
    "        row_data.pop(unwanted_col)\n",
    "    label = row_data.pop(LABEL_COLUMN)\n",
    "    return row_data, label  # features, label\n",
    "\n",
    "# print a few rows to make it sure works\n",
    "for n, data in enumerate(tempds):\n",
    "    row_data = {k: v.numpy() for k,v in data.items()}\n",
    "    features, label = features_and_labels(row_data)\n",
    "    print(n, label, features)\n",
    "    if n > 2:\n",
    "        break"
   ]
  },
  {
   "cell_type": "markdown",
   "metadata": {},
   "source": [
    "## Batching\n",
    "\n",
    "Let's do both (loading, features_label)\n",
    "in our load_dataset function, and also add batching."
   ]
  },
  {
   "cell_type": "code",
   "execution_count": 46,
   "metadata": {},
   "outputs": [
    {
     "name": "stdout",
     "output_type": "stream",
     "text": [
      "[(OrderedDict([('pickup_longitude', <tf.Tensor: id=3384, shape=(2,), dtype=float32, numpy=array([-74.009514, -73.99487 ], dtype=float32)>), ('pickup_latitude', <tf.Tensor: id=3383, shape=(2,), dtype=float32, numpy=array([40.72891 , 40.739902], dtype=float32)>), ('dropoff_longitude', <tf.Tensor: id=3381, shape=(2,), dtype=float32, numpy=array([-74.010635, -73.99037 ], dtype=float32)>), ('dropoff_latitude', <tf.Tensor: id=3380, shape=(2,), dtype=float32, numpy=array([40.72731, 40.74638], dtype=float32)>), ('passenger_count', <tf.Tensor: id=3382, shape=(2,), dtype=float32, numpy=array([5., 1.], dtype=float32)>)]), <tf.Tensor: id=3385, shape=(2,), dtype=float32, numpy=array([15.3,  4.5], dtype=float32)>), (OrderedDict([('pickup_longitude', <tf.Tensor: id=3390, shape=(2,), dtype=float32, numpy=array([-73.95611 , -74.004395], dtype=float32)>), ('pickup_latitude', <tf.Tensor: id=3389, shape=(2,), dtype=float32, numpy=array([40.767582, 40.719425], dtype=float32)>), ('dropoff_longitude', <tf.Tensor: id=3387, shape=(2,), dtype=float32, numpy=array([-73.961975, -73.97989 ], dtype=float32)>), ('dropoff_latitude', <tf.Tensor: id=3386, shape=(2,), dtype=float32, numpy=array([40.805424, 40.76219 ], dtype=float32)>), ('passenger_count', <tf.Tensor: id=3388, shape=(2,), dtype=float32, numpy=array([1., 5.], dtype=float32)>)]), <tf.Tensor: id=3391, shape=(2,), dtype=float32, numpy=array([14.5, 11.3], dtype=float32)>), (OrderedDict([('pickup_longitude', <tf.Tensor: id=3396, shape=(2,), dtype=float32, numpy=array([-73.97409, -73.96821], dtype=float32)>), ('pickup_latitude', <tf.Tensor: id=3395, shape=(2,), dtype=float32, numpy=array([40.764797, 40.75543 ], dtype=float32)>), ('dropoff_longitude', <tf.Tensor: id=3393, shape=(2,), dtype=float32, numpy=array([-74.00556, -73.97599], dtype=float32)>), ('dropoff_latitude', <tf.Tensor: id=3392, shape=(2,), dtype=float32, numpy=array([40.72555 , 40.728607], dtype=float32)>), ('passenger_count', <tf.Tensor: id=3394, shape=(2,), dtype=float32, numpy=array([1., 1.], dtype=float32)>)]), <tf.Tensor: id=3397, shape=(2,), dtype=float32, numpy=array([13. ,  7.7], dtype=float32)>)]\n"
     ]
    }
   ],
   "source": [
    "def load_dataset(pattern, batch_size):\n",
    "  return (\n",
    "      tf.data.experimental.make_csv_dataset(pattern, batch_size, CSV_COLUMNS, DEFAULTS)\n",
    "             .map(features_and_labels) # features, label\n",
    "  )\n",
    "\n",
    "# try changing the batch size and watch what happens.\n",
    "tempds = load_dataset('../data/taxi-train*', batch_size=2)\n",
    "print(list(tempds.take(3))) # truncate and print as a list "
   ]
  },
  {
   "cell_type": "markdown",
   "metadata": {},
   "source": [
    "## Shuffling\n",
    "\n",
    "When training a deep learning model in batches over multiple workers, it is helpful if we shuffle the data. That way, different workers will be working on different parts of the input file at the same time, and so averaging gradients across workers will help. Also, during training, we will need to read the data indefinitely."
   ]
  },
  {
   "cell_type": "code",
   "execution_count": 47,
   "metadata": {},
   "outputs": [
    {
     "name": "stdout",
     "output_type": "stream",
     "text": [
      "[(OrderedDict([('pickup_longitude', <tf.Tensor: id=3516, shape=(2,), dtype=float32, numpy=array([-74.00582, -73.96021], dtype=float32)>), ('pickup_latitude', <tf.Tensor: id=3515, shape=(2,), dtype=float32, numpy=array([40.73631 , 40.781963], dtype=float32)>), ('dropoff_longitude', <tf.Tensor: id=3513, shape=(2,), dtype=float32, numpy=array([-73.993866, -73.95238 ], dtype=float32)>), ('dropoff_latitude', <tf.Tensor: id=3512, shape=(2,), dtype=float32, numpy=array([40.74126 , 40.777256], dtype=float32)>), ('passenger_count', <tf.Tensor: id=3514, shape=(2,), dtype=float32, numpy=array([3., 1.], dtype=float32)>)]), <tf.Tensor: id=3517, shape=(2,), dtype=float32, numpy=array([4.9, 5.5], dtype=float32)>)]\n",
      "[(OrderedDict([('pickup_longitude', <tf.Tensor: id=3618, shape=(2,), dtype=float32, numpy=array([-73.97676, -73.94965], dtype=float32)>), ('pickup_latitude', <tf.Tensor: id=3617, shape=(2,), dtype=float32, numpy=array([40.788414, 40.772587], dtype=float32)>), ('dropoff_longitude', <tf.Tensor: id=3615, shape=(2,), dtype=float32, numpy=array([-73.95915, -73.96823], dtype=float32)>), ('dropoff_latitude', <tf.Tensor: id=3614, shape=(2,), dtype=float32, numpy=array([40.771603, 40.758694], dtype=float32)>), ('passenger_count', <tf.Tensor: id=3616, shape=(2,), dtype=float32, numpy=array([1., 1.], dtype=float32)>)]), <tf.Tensor: id=3619, shape=(2,), dtype=float32, numpy=array([11. ,  6.9], dtype=float32)>)]\n"
     ]
    }
   ],
   "source": [
    "def load_dataset(pattern, batch_size=1, mode=tf.estimator.ModeKeys.EVAL):\n",
    "  dataset = (tf.data.experimental.make_csv_dataset(pattern, batch_size, CSV_COLUMNS, DEFAULTS)\n",
    "             .map(features_and_labels) # features, label\n",
    "             .cache())\n",
    "  if mode == tf.estimator.ModeKeys.TRAIN:\n",
    "        dataset = dataset.shuffle(1000).repeat()\n",
    "  dataset = dataset.prefetch(1) # take advantage of multi-threading; 1=AUTOTUNE\n",
    "  return dataset\n",
    "\n",
    "tempds = load_dataset('../data/taxi-train*', 2, tf.estimator.ModeKeys.TRAIN)\n",
    "print(list(tempds.take(1)))\n",
    "tempds = load_dataset('../data/taxi-valid*', 2, tf.estimator.ModeKeys.EVAL)\n",
    "print(list(tempds.take(1)))"
   ]
  },
  {
   "cell_type": "markdown",
   "metadata": {},
   "source": [
    "In the next notebook, we will build the model using this input pipeline."
   ]
  },
  {
   "cell_type": "markdown",
   "metadata": {},
   "source": [
    "Copyright 2019 Google Inc.\n",
    "Licensed under the Apache License, Version 2.0 (the \"License\"); you may not use this file except in compliance with the License. You may obtain a copy of the License at\n",
    "http://www.apache.org/licenses/LICENSE-2.0\n",
    "Unless required by applicable law or agreed to in writing, software distributed under the License is distributed on an \"AS IS\" BASIS, WITHOUT WARRANTIES OR CONDITIONS OF ANY KIND, either express or implied. See the License for the specific language governing permissions and limitations under the License."
   ]
  }
 ],
 "metadata": {
  "kernelspec": {
   "display_name": "Python 3",
   "language": "python",
   "name": "python3"
  },
  "language_info": {
   "codemirror_mode": {
    "name": "ipython",
    "version": 3
   },
   "file_extension": ".py",
   "mimetype": "text/x-python",
   "name": "python",
   "nbconvert_exporter": "python",
   "pygments_lexer": "ipython3",
   "version": "3.5.3"
  }
 },
 "nbformat": 4,
 "nbformat_minor": 2
}
